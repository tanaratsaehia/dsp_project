{
 "cells": [
  {
   "cell_type": "code",
   "execution_count": null,
   "metadata": {
    "vscode": {
     "languageId": "plaintext"
    }
   },
   "outputs": [],
   "source": [
    "import pandas as pd\n",
    "import numpy as np\n",
    "import matplotlib.pyplot as plt"
   ]
  },
  {
   "cell_type": "code",
   "execution_count": null,
   "metadata": {
    "vscode": {
     "languageId": "plaintext"
    }
   },
   "outputs": [],
   "source": [
    "!unzip '/content/new_datasets_many_position.zip'"
   ]
  },
  {
   "cell_type": "code",
   "execution_count": null,
   "metadata": {
    "vscode": {
     "languageId": "plaintext"
    }
   },
   "outputs": [],
   "source": [
    "climbing = pd.read_csv('/content/new_datasets_many_position/backpack/climbing_stairs_26-02-2025_18-12-00.csv')\n",
    "descending = pd.read_csv('/content/new_datasets_many_position/backpack/descending_stairs_26-02-2025_18-07-35.csv')\n",
    "nothing1 = pd.read_csv('/content/new_datasets_many_position/backpack/nothing_27-02-2025_12-57-59.csv')\n",
    "nothing2 = pd.read_csv('/content/new_datasets_many_position/backpack/nothing_27-02-2025_13-02-51.csv')\n",
    "running = pd.read_csv('/content/new_datasets_many_position/backpack/running_27-02-2025_11-57-06.csv')\n",
    "sitting = pd.read_csv('/content/new_datasets_many_position/backpack/sitting_standing_transition_27-02-2025_12-45-34.csv')\n",
    "walking = pd.read_csv('/content/new_datasets_many_position/backpack/walking_27-02-2025_11-48-15.csv')"
   ]
  },
  {
   "cell_type": "code",
   "execution_count": null,
   "metadata": {
    "vscode": {
     "languageId": "plaintext"
    }
   },
   "outputs": [],
   "source": [
    "data = climbing.copy()\n",
    "\n",
    "# Combine x, y, z\n",
    "def calculate_magnitude(x, y, z):\n",
    "    return np.sqrt(x**2 + y**2 + z**2)\n",
    "\n",
    "x = np.array(data['x'].values)\n",
    "y = np.array(data['y'].values)\n",
    "z = np.array(data['z'].values)\n",
    "\n",
    "magnitude = calculate_magnitude(x, y, z)\n",
    "data['magnitude'] = magnitude\n",
    "print(magnitude)"
   ]
  },
  {
   "cell_type": "code",
   "execution_count": null,
   "metadata": {
    "vscode": {
     "languageId": "plaintext"
    }
   },
   "outputs": [],
   "source": [
    "plt.figure(figsize=(12, 6))\n",
    "plt.plot(data['magnitude'], label='Signal')\n",
    "plt.xlabel('Sample')\n",
    "plt.ylabel('Magnitude')\n",
    "plt.title('Signal')\n",
    "plt.legend()\n",
    "plt.xlim(8000,8430) # adjust xlim to observe\n",
    "plt.grid(True)\n",
    "plt.show()"
   ]
  },
  {
   "cell_type": "code",
   "execution_count": null,
   "metadata": {
    "vscode": {
     "languageId": "plaintext"
    }
   },
   "outputs": [],
   "source": [
    "new_data = data[925:8430]\n",
    "plt.figure(figsize=(12, 6))\n",
    "plt.plot(new_data['magnitude'], label='Signal')\n",
    "plt.xlabel('Sample')\n",
    "plt.ylabel('Magnitude')\n",
    "plt.title('Signal')\n",
    "plt.legend()\n",
    "plt.grid(True)\n",
    "plt.show()"
   ]
  },
  {
   "cell_type": "code",
   "execution_count": null,
   "metadata": {
    "vscode": {
     "languageId": "plaintext"
    }
   },
   "outputs": [],
   "source": [
    "new_data.to_csv('climbing_stairs.csv', index=False)"
   ]
  }
 ],
 "metadata": {
  "language_info": {
   "name": "python"
  }
 },
 "nbformat": 4,
 "nbformat_minor": 2
}
