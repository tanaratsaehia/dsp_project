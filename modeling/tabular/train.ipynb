{
 "cells": [
  {
   "cell_type": "code",
   "execution_count": 1,
   "metadata": {},
   "outputs": [],
   "source": [
    "from sklearn.model_selection import train_test_split\n",
    "from sklearn.preprocessing import LabelEncoder\n",
    "from sklearn.ensemble import RandomForestClassifier\n",
    "from sklearn.preprocessing import MinMaxScaler\n",
    "from sklearn.metrics import classification_report\n",
    "import pandas as pd\n"
   ]
  },
  {
   "cell_type": "code",
   "execution_count": 15,
   "metadata": {},
   "outputs": [],
   "source": [
    "# file_path = r'D:\\git_repository\\dsp_project\\ignore_dir\\datasets\\combine_all_class_with_label_no_fft.csv'\n",
    "# file_path = r'D:\\git_repository\\dsp_project\\ignore_dir\\datasets\\combine_all_class_with_label_apply_fft.csv'\n",
    "# file_path = r'D:\\git_repository\\dsp_project\\ignore_dir\\datasets\\cleaned_combine_all_class_with_label_applied_fft.csv'\n",
    "file_path = r'D:\\git_repository\\dsp_project\\ignore_dir\\datasets\\ready_to_train\\cleaned_combine_all_class_with_label_no_fft_win5_lab50.csv'\n",
    "df = pd.read_csv(file_path)"
   ]
  },
  {
   "cell_type": "code",
   "execution_count": 16,
   "metadata": {},
   "outputs": [
    {
     "name": "stdout",
     "output_type": "stream",
     "text": [
      "                             precision    recall  f1-score   support\n",
      "\n",
      "            climbing_stairs       0.93      0.84      0.89        32\n",
      "          descending_stairs       1.00      0.83      0.91        30\n",
      "                    running       0.96      1.00      0.98        25\n",
      "sitting_standing_transition       0.95      1.00      0.97        35\n",
      "                    walking       0.91      1.00      0.95        53\n",
      "\n",
      "                   accuracy                           0.94       175\n",
      "                  macro avg       0.95      0.94      0.94       175\n",
      "               weighted avg       0.94      0.94      0.94       175\n",
      "\n"
     ]
    }
   ],
   "source": [
    "# -- Prepare for modeling --\n",
    "# 1) Encode labels\n",
    "le = LabelEncoder()\n",
    "df['label_encoded'] = le.fit_transform(df['label'])\n",
    "\n",
    "# 2) Separate features and target\n",
    "#    - We'll drop 'start_time' because it's just a reference\n",
    "#    - We'll keep 'label_encoded' as the target\n",
    "X = df.drop(['start_time', 'label', 'label_encoded'], axis=1)\n",
    "y = df['label_encoded']\n",
    "\n",
    "# 3) Split into train/test sets\n",
    "X_train, X_test, y_train, y_test = train_test_split(\n",
    "    X, y, \n",
    "    test_size=0.2,   # 20% for testing\n",
    "    random_state=42  # for reproducibility\n",
    ")\n",
    "\n",
    "# Apply min-max normalization (0-1) to these columns\n",
    "scaler = MinMaxScaler()\n",
    "X_train = scaler.fit_transform(X_train)\n",
    "\n",
    "# 4) Train a Random Forest classifier\n",
    "model = RandomForestClassifier(n_estimators=100, random_state=42)\n",
    "model.fit(X_train, y_train)\n",
    "\n",
    "# 5) Evaluate\n",
    "y_pred = model.predict(scaler.transform(X_test))\n",
    "print(classification_report(y_test, y_pred, target_names=le.classes_))"
   ]
  },
  {
   "cell_type": "code",
   "execution_count": null,
   "metadata": {},
   "outputs": [],
   "source": []
  }
 ],
 "metadata": {
  "kernelspec": {
   "display_name": "final_project_dsp",
   "language": "python",
   "name": "python3"
  },
  "language_info": {
   "codemirror_mode": {
    "name": "ipython",
    "version": 3
   },
   "file_extension": ".py",
   "mimetype": "text/x-python",
   "name": "python",
   "nbconvert_exporter": "python",
   "pygments_lexer": "ipython3",
   "version": "3.10.16"
  }
 },
 "nbformat": 4,
 "nbformat_minor": 2
}
